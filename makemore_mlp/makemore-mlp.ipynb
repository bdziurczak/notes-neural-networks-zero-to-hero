{
  "cells": [
    {
      "cell_type": "code",
      "execution_count": 2,
      "metadata": {
        "execution": {
          "iopub.execute_input": "2024-05-18T16:06:40.842278Z",
          "iopub.status.busy": "2024-05-18T16:06:40.841859Z",
          "iopub.status.idle": "2024-05-18T16:06:40.848661Z",
          "shell.execute_reply": "2024-05-18T16:06:40.847592Z",
          "shell.execute_reply.started": "2024-05-18T16:06:40.842248Z"
        },
        "id": "VN6h4B429WxI",
        "trusted": true
      },
      "outputs": [],
      "source": [
        "import torch\n",
        "import torch.nn.functional as F\n",
        "import matplotlib.pyplot as plt\n",
        "%matplotlib inline"
      ]
    },
    {
      "cell_type": "code",
      "execution_count": 3,
      "metadata": {
        "execution": {
          "iopub.execute_input": "2024-05-18T16:06:40.851045Z",
          "iopub.status.busy": "2024-05-18T16:06:40.850714Z",
          "iopub.status.idle": "2024-05-18T16:06:40.883871Z",
          "shell.execute_reply": "2024-05-18T16:06:40.882903Z",
          "shell.execute_reply.started": "2024-05-18T16:06:40.851020Z"
        },
        "id": "PwA_tbI09WxX",
        "trusted": true
      },
      "outputs": [],
      "source": [
        "dev = torch.device(\"cuda:0\" if torch.cuda.is_available() else \"cpu\")"
      ]
    },
    {
      "cell_type": "code",
      "execution_count": 4,
      "metadata": {
        "execution": {
          "iopub.execute_input": "2024-05-18T16:06:40.885442Z",
          "iopub.status.busy": "2024-05-18T16:06:40.885155Z",
          "iopub.status.idle": "2024-05-18T16:06:40.914976Z",
          "shell.execute_reply": "2024-05-18T16:06:40.914142Z",
          "shell.execute_reply.started": "2024-05-18T16:06:40.885419Z"
        },
        "id": "M2MUejNT9Wxg",
        "trusted": true
      },
      "outputs": [],
      "source": [
        "words = open('../data/names.txt', 'r').read().splitlines()\n",
        "\n",
        "# vocabulary of characters and mapping to/from integers\n",
        "chars = sorted(list(set(''.join(words))))\n",
        "stoi = {s:i+1 for i,s in enumerate(chars)}\n",
        "stoi['.'] = 0\n",
        "itos = {i:s for s,i in stoi.items()}\n",
        "vocab_size = len(itos)\n",
        "\n"
      ]
    },
    {
      "cell_type": "code",
      "execution_count": 5,
      "metadata": {
        "execution": {
          "iopub.execute_input": "2024-05-18T16:06:40.916972Z",
          "iopub.status.busy": "2024-05-18T16:06:40.916672Z",
          "iopub.status.idle": "2024-05-18T16:06:41.900238Z",
          "shell.execute_reply": "2024-05-18T16:06:41.899172Z",
          "shell.execute_reply.started": "2024-05-18T16:06:40.916949Z"
        },
        "id": "VVzMEt8d9Wxm",
        "trusted": true
      },
      "outputs": [],
      "source": [
        "block_size = 3 #how many character are taken to predict next one\n",
        "def build_dataset(words):\n",
        "    inputs, labels = [],[]\n",
        "\n",
        "    for w in words:\n",
        "        context = [0] * block_size\n",
        "        for ch in w + '.':\n",
        "            ix = stoi[ch]\n",
        "            inputs.append(context)\n",
        "            labels.append(ix)\n",
        "            context = context[1:] + [ix] #crop and append next character\n",
        "    inputs = torch.tensor(inputs).to(dev)\n",
        "    labels = torch.tensor(labels).to(dev)\n",
        "    return inputs, labels\n",
        "\n",
        "import random\n",
        "random.seed(42)\n",
        "random.shuffle(words)\n",
        "n1 = int(0.8*len(words))\n",
        "n2 = int(0.9*len(words))\n",
        "xtrain, ytrain = build_dataset(words[:n1])\n",
        "xdev, ydev = build_dataset(words[n1:n2])\n",
        "xtest, ytest = build_dataset(words[n2:])"
      ]
    },
    {
      "cell_type": "code",
      "execution_count": 6,
      "metadata": {
        "execution": {
          "iopub.execute_input": "2024-05-18T16:06:41.901773Z",
          "iopub.status.busy": "2024-05-18T16:06:41.901440Z",
          "iopub.status.idle": "2024-05-18T16:06:41.914738Z",
          "shell.execute_reply": "2024-05-18T16:06:41.913738Z",
          "shell.execute_reply.started": "2024-05-18T16:06:41.901743Z"
        },
        "id": "O5hP3uwg9Wxs",
        "trusted": true
      },
      "outputs": [],
      "source": [
        "n_embd = 10 #dimensionality of the character embedding vectors\n",
        "n_hidden = 200 #number of neurons in a hidded layere\n",
        "\n",
        "C = torch.randn((vocab_size, n_embd)).to(dev)\n",
        "W1 = torch.randn((n_embd * block_size, n_hidden)).to(dev)\n",
        "W2 = torch.randn((n_hidden, vocab_size)).to(dev) * 0.01\n",
        "b2 = torch.randn(vocab_size).to(dev) * 0\n",
        "\n",
        "bngain = torch.ones((1, n_hidden)).to(dev)\n",
        "bnbias = torch.zeros((1, n_hidden)).to(dev)\n",
        "bnmean_running = torch.zeros((1, n_hidden)).to(dev)\n",
        "bnstd_running = torch.ones((1, n_hidden)).to(dev)\n",
        "\n",
        "\n",
        "parameters = [C, W1, W2, b2, bngain, bnbias]"
      ]
    },
    {
      "cell_type": "code",
      "execution_count": 18,
      "metadata": {
        "execution": {
          "iopub.execute_input": "2024-05-18T16:06:41.916184Z",
          "iopub.status.busy": "2024-05-18T16:06:41.915756Z",
          "iopub.status.idle": "2024-05-18T16:06:41.920743Z",
          "shell.execute_reply": "2024-05-18T16:06:41.919760Z",
          "shell.execute_reply.started": "2024-05-18T16:06:41.916160Z"
        },
        "id": "X5eMw5IW9Wxw",
        "trusted": true
      },
      "outputs": [],
      "source": [
        "for p in parameters:\n",
        "    p.requires_grad=True"
      ]
    },
    {
      "cell_type": "code",
      "execution_count": 19,
      "metadata": {
        "colab": {
          "base_uri": "https://localhost:8080/"
        },
        "execution": {
          "iopub.execute_input": "2024-05-18T16:06:41.923397Z",
          "iopub.status.busy": "2024-05-18T16:06:41.923068Z",
          "iopub.status.idle": "2024-05-18T16:09:40.758659Z",
          "shell.execute_reply": "2024-05-18T16:09:40.757734Z",
          "shell.execute_reply.started": "2024-05-18T16:06:41.923367Z"
        },
        "id": "uxSTOROS9Wx1",
        "outputId": "ea492021-bd42-4138-f14b-e427fc5b8ad6",
        "trusted": true
      },
      "outputs": [
        {
          "name": "stdout",
          "output_type": "stream",
          "text": [
            "      0/ 200000: 3.2801\n",
            "  10000/ 200000: 2.3258\n",
            "  20000/ 200000: 2.4389\n",
            "  30000/ 200000: 2.0317\n",
            "  40000/ 200000: 2.5201\n",
            "  50000/ 200000: 2.2515\n",
            "  60000/ 200000: 2.3741\n",
            "  70000/ 200000: 2.0595\n",
            "  80000/ 200000: 2.2587\n",
            "  90000/ 200000: 2.6538\n",
            " 100000/ 200000: 2.0140\n",
            " 110000/ 200000: 2.4809\n",
            " 120000/ 200000: 2.2026\n",
            " 130000/ 200000: 2.1953\n",
            " 140000/ 200000: 2.3808\n",
            " 150000/ 200000: 2.2736\n",
            " 160000/ 200000: 2.5935\n",
            " 170000/ 200000: 2.0392\n",
            " 180000/ 200000: 2.2399\n",
            " 190000/ 200000: 2.2500\n",
            "2.26942777633667\n"
          ]
        }
      ],
      "source": [
        "\n",
        "lossi = []\n",
        "max_steps = 200000\n",
        "batch_size = 32\n",
        "for i in range(max_steps):\n",
        "\n",
        "        #minibatch construct\n",
        "        ix  = torch.randint(0, xtrain.shape[0], (batch_size,))\n",
        "        xbatch, ybatch = xtrain[ix], ytrain[ix]\n",
        "        #forward pass\n",
        "        embed = C[xbatch]\n",
        "        embcat = embed.view(embed.shape[0], -1) #concatenate vectors\n",
        "\n",
        "        hpreact = embcat @ W1 \n",
        "\n",
        "        #batchnorm layer. we use batchnorm to control the statistics of activations in the neural net\n",
        "        bn_stdi = hpreact.std(0, keepdim=True)\n",
        "        bn_meani = hpreact.mean(0, keepdim=True)\n",
        "        hpreact = bngain * (hpreact - bn_meani) / bn_stdi  + bnbias\n",
        "        with torch.no_grad():\n",
        "          bnmean_running = 0.999 * bnmean_running + 0.001 + bn_meani\n",
        "          bnstd_running = 0.999 * bnstd_running + 0.001 * bn_stdi\n",
        "\n",
        "        #non-linearity\n",
        "        h = torch.tanh(hpreact)\n",
        "        logits = h @ W2 + b2\n",
        "        loss = F.cross_entropy(logits, ybatch)\n",
        "\n",
        "        #backward pass\n",
        "        for p in parameters:\n",
        "            p.grad = None\n",
        "        loss.backward()\n",
        "\n",
        "        learning_rate = 0.1 if i < 100000 else 0.01\n",
        "        for p in parameters:\n",
        "            p.data -= p.grad * learning_rate \n",
        "\n",
        "        #loss statistics\n",
        "        if i % 10000 == 0:\n",
        "            print(f'{i:7d}/{max_steps:7d}: {loss.item():.4f}')\n",
        "        lossi.append(loss.log10().item())\n",
        "\n",
        "        #break\n",
        "print(loss.item())\n"
      ]
    },
    {
      "cell_type": "code",
      "execution_count": 20,
      "metadata": {
        "colab": {
          "base_uri": "https://localhost:8080/",
          "height": 448
        },
        "execution": {
          "iopub.execute_input": "2024-05-18T16:09:53.759807Z",
          "iopub.status.busy": "2024-05-18T16:09:53.759362Z",
          "iopub.status.idle": "2024-05-18T16:09:54.214731Z",
          "shell.execute_reply": "2024-05-18T16:09:54.213862Z",
          "shell.execute_reply.started": "2024-05-18T16:09:53.759776Z"
        },
        "id": "kTUhFhAT9Wx-",
        "outputId": "cbe5dd76-1bfd-46d9-d47e-80a634e5030d",
        "trusted": true
      },
      "outputs": [
        {
          "data": {
            "text/plain": [
              "[<matplotlib.lines.Line2D at 0x7abb5cc7a320>]"
            ]
          },
          "execution_count": 20,
          "metadata": {},
          "output_type": "execute_result"
        },
        {
          "data": {
            "image/png": "[encoded data removed]",
            "text/plain": [
              "<Figure size 640x480 with 1 Axes>"
            ]
          },
          "metadata": {},
          "output_type": "display_data"
        }
      ],
      "source": [
        "plt.plot(lossi)"
      ]
    },
    {
      "cell_type": "code",
      "execution_count": 21,
      "metadata": {
        "id": "DDG0M4GnMzUO"
      },
      "outputs": [],
      "source": [
        "# calibrate the batch norm at the end of training\n",
        "with torch.no_grad():\n",
        "  emb = C[xtrain]\n",
        "  embcat = emb.view(emb.shape[0], -1)\n",
        "  hpreact = embcat @ W1 #+ b1\n",
        "  bnmean = hpreact.mean(0, keepdim=True)\n",
        "  bnstd = hpreact.std(0, keepdim=True)"
      ]
    },
    {
      "cell_type": "code",
      "execution_count": 11,
      "metadata": {
        "colab": {
          "base_uri": "https://localhost:8080/"
        },
        "execution": {
          "iopub.execute_input": "2024-05-18T16:09:40.769019Z",
          "iopub.status.busy": "2024-05-18T16:09:40.768753Z",
          "iopub.status.idle": "2024-05-18T16:09:40.780851Z",
          "shell.execute_reply": "2024-05-18T16:09:40.779454Z",
          "shell.execute_reply.started": "2024-05-18T16:09:40.768995Z"
        },
        "id": "LGRyY6YQ9WyE",
        "outputId": "2d232a0f-7652-45d1-dff1-b827ff7cddde",
        "trusted": true
      },
      "outputs": [
        {
          "name": "stdout",
          "output_type": "stream",
          "text": [
            "train 3.2641751766204834\n",
            "val 3.2640414237976074\n"
          ]
        }
      ],
      "source": [
        "@torch.no_grad() #disables gradient tracking\n",
        "def split_loss(split):\n",
        "    x, y = {\n",
        "        'train': (xtrain, ytrain),\n",
        "        'val': (xdev, ydev),\n",
        "        'test': (xtest, ytest)\n",
        "    }[split]\n",
        "    emb = C[x]\n",
        "    embcat = emb.view(emb.shape[0], -1) #concat into (N, block_size * n_embd)\n",
        "    hpreact = embcat @ W1 #+ b1\n",
        "    hpreact = bngain * (hpreact - bnmean) / bnstd + bnbias\n",
        "\n",
        "    h = torch.tanh(hpreact)\n",
        "    logits = h @ W2 + b2\n",
        "    loss = F.cross_entropy(logits, y)\n",
        "    print(split, loss.item())\n",
        "split_loss('train')\n",
        "split_loss('val')"
      ]
    },
    {
      "cell_type": "code",
      "execution_count": 12,
      "metadata": {
        "colab": {
          "base_uri": "https://localhost:8080/"
        },
        "execution": {
          "iopub.status.busy": "2024-05-18T16:09:40.781606Z",
          "iopub.status.idle": "2024-05-18T16:09:40.781981Z",
          "shell.execute_reply": "2024-05-18T16:09:40.781831Z",
          "shell.execute_reply.started": "2024-05-18T16:09:40.781817Z"
        },
        "id": "0su3q6dc9WyI",
        "outputId": "b548dd45-5a5e-48d5-fc9e-052b6feb35af",
        "trusted": true
      },
      "outputs": [
        {
          "name": "stdout",
          "output_type": "stream",
          "text": [
            "cmyzdekfzhuvaqbq.\n",
            "aupdruutakxiwrh.\n",
            "qgyzyy.\n",
            "ghcprpbsuxbvswewrzmvvccf.\n",
            "vqohhdqckmsgndyxuywcyxvhwfiepafwejoqhawf.\n",
            "jlfp.\n",
            "phkmyjtezyhnflmtisjaabhssnjamcwqntuqjdtxqgdncebjaj.\n",
            "ocqfqojnlbhivzehdzfwfybdfyjaphbsjgjnigwktgeoifjodljnunzpiakebptphnokilltfwhm.\n",
            "jbjgldvonuhwewsqvlvbalqhtiqmgddhkyewygehkjrdudkgvtnce.\n",
            "tzxvhxawkssteogewmfdueppvngaebweyczhwiirrksndlvpntqerhjuhupestrxjtinzxehjqqaarzgyrjjczthstgdrmnawleeuihgctkarhxcwfcfrveuiubkljsrriiwvcchxgzueiia.\n",
            "cbxfdrqqdvchunhymwd.\n",
            "qlwq.\n",
            "tivqcwsakbiutasojikxlidvptorovykdjkfpaozffeov.\n",
            "stkxmadtbbsxfgeowupoynjagqhqtixt.\n",
            "wbkcctqavgsocznbbqodibfcabhpyhqbzeodbdmgmbd.\n",
            "bqdpwhnsuipnphdmkzrkj.\n",
            "zlsvukikjatzhpmnzpqmsoxmyeidj.\n",
            "kraltsnd.\n",
            "ftqgkhwedtolqwlazcqstcygaqdcafkzrwrmthia.\n",
            "kyeffrthdhmoaxfolyfzffcothbqcb.\n"
          ]
        }
      ],
      "source": [
        "#sample from model\n",
        "for _ in range(20):\n",
        "    out = []\n",
        "    context = [0] * block_size\n",
        "    while True:\n",
        "        embed = C[torch.tensor([context])]\n",
        "        embcat = embed.view(embed.shape[0], -1)\n",
        "        hpreact = embcat @ W1 + b1\n",
        "        h = torch.tanh(hpreact)\n",
        "        logits = h @ W2 + b2\n",
        "        probs = F.softmax(logits, dim=1)\n",
        "        ix = torch.multinomial(probs, num_samples=1).item()\n",
        "        context = context[1:] + [ix]\n",
        "        out.append(ix)\n",
        "        if ix == 0:\n",
        "            break\n",
        "    print(''.join(itos[i] for i in out))"
      ]
    },
    {
      "cell_type": "code",
      "execution_count": null,
      "metadata": {
        "id": "bwV1Auol9WyN"
      },
      "outputs": [],
      "source": []
    }
  ],
  "metadata": {
    "accelerator": "GPU",
    "colab": {
      "gpuType": "T4",
      "provenance": []
    },
    "kaggle": {
      "accelerator": "gpu",
      "dataSources": [
        {
          "datasetId": 4949276,
          "sourceId": 8334180,
          "sourceType": "datasetVersion"
        }
      ],
      "dockerImageVersionId": 30699,
      "isGpuEnabled": true,
      "isInternetEnabled": true,
      "language": "python",
      "sourceType": "notebook"
    },
    "kernelspec": {
      "display_name": "Python 3",
      "name": "python3"
    },
    "language_info": {
      "codemirror_mode": {
        "name": "ipython",
        "version": 3
      },
      "file_extension": ".py",
      "mimetype": "text/x-python",
      "name": "python",
      "nbconvert_exporter": "python",
      "pygments_lexer": "ipython3",
      "version": "3.12.3"
    }
  },
  "nbformat": 4,
  "nbformat_minor": 0
}
